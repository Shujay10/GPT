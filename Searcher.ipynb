{
  "nbformat": 4,
  "nbformat_minor": 0,
  "metadata": {
    "colab": {
      "provenance": [],
      "authorship_tag": "ABX9TyPFC5mdAiVkfRr79QxnSKeT",
      "include_colab_link": true
    },
    "kernelspec": {
      "name": "python3",
      "display_name": "Python 3"
    },
    "language_info": {
      "name": "python"
    }
  },
  "cells": [
    {
      "cell_type": "markdown",
      "metadata": {
        "id": "view-in-github",
        "colab_type": "text"
      },
      "source": [
        "<a href=\"https://colab.research.google.com/github/Shujay10/GPT/blob/main/Searcher.ipynb\" target=\"_parent\"><img src=\"https://colab.research.google.com/assets/colab-badge.svg\" alt=\"Open In Colab\"/></a>"
      ]
    },
    {
      "cell_type": "markdown",
      "source": [
        "# ***1337x  Searcher***"
      ],
      "metadata": {
        "id": "jCx67yIOaVVE"
      }
    },
    {
      "cell_type": "code",
      "execution_count": null,
      "metadata": {
        "id": "H5n86IpWaS-_"
      },
      "outputs": [],
      "source": [
        "!pip install 1337x"
      ]
    },
    {
      "cell_type": "code",
      "source": [
        "from py1337x import py1337x\n",
        "import json\n",
        "import smtplib\n",
        "from email.mime.text import MIMEText\n",
        "from email.mime.multipart import MIMEMultipart\n",
        "from tabulate import tabulate"
      ],
      "metadata": {
        "id": "TR7ZxPJMaO93"
      },
      "execution_count": null,
      "outputs": []
    },
    {
      "cell_type": "markdown",
      "source": [
        "**Enter your regular Email ID here :**"
      ],
      "metadata": {
        "id": "PAWekDnQqAAT"
      }
    },
    {
      "cell_type": "code",
      "source": [
        "mailId = 'mylaptopfriday@gmail.com'"
      ],
      "metadata": {
        "id": "SCd1yNFop_Hm"
      },
      "execution_count": null,
      "outputs": []
    },
    {
      "cell_type": "markdown",
      "source": [
        "**Input**"
      ],
      "metadata": {
        "id": "s50j42xehVB0"
      }
    },
    {
      "cell_type": "code",
      "source": [
        "search = input(\"Search : \")\n",
        "\n",
        "if search == '':\n",
        "  print(\"Invalid\")\n",
        "  exit(0)"
      ],
      "metadata": {
        "colab": {
          "base_uri": "https://localhost:8080/"
        },
        "id": "A7RVBqbQgcHS",
        "outputId": "fee23014-42d6-4830-e3d1-df4189ba8c85"
      },
      "execution_count": null,
      "outputs": [
        {
          "name": "stdout",
          "output_type": "stream",
          "text": [
            "Search : Flash A09\n"
          ]
        }
      ]
    },
    {
      "cell_type": "code",
      "source": [
        "class TorrentFile:\n",
        "    def __init__(self, name, seeders, leechers, size,magnet):\n",
        "        self.name = name\n",
        "        self.seeders = seeders\n",
        "        self.leechers = leechers\n",
        "        self.size = size\n",
        "        self.magnet = magnet\n",
        "\n",
        "    def mailFormat(self):\n",
        "        return self.name,self.magnet\n"
      ],
      "metadata": {
        "id": "8MpDXX_5391g"
      },
      "execution_count": null,
      "outputs": []
    },
    {
      "cell_type": "code",
      "source": [
        "def sendMail(subject,content,mailId):\n",
        "    sender_email = 'mylaptopfriday@gmail.com'\n",
        "    sender_password = 'rlwcyxhjieyyqtvc'\n",
        "    recipient_email = mailId\n",
        "    subject = subject\n",
        "\n",
        "    msg = MIMEMultipart()\n",
        "    msg['From'] = sender_email\n",
        "    msg['To'] = recipient_email\n",
        "    msg['Subject'] = subject\n",
        "\n",
        "    msg.attach(MIMEText(content, 'plain'))\n",
        "\n",
        "    smtp_server = 'smtp.gmail.com'\n",
        "    smtp_port = 587\n",
        "\n",
        "    server = smtplib.SMTP(smtp_server, smtp_port)\n",
        "    server.starttls()\n",
        "    server.login(sender_email, sender_password)\n",
        "\n",
        "    server.send_message(msg)\n",
        "    server.quit()\n",
        "    print(\"Mail Sent\")"
      ],
      "metadata": {
        "id": "KY4n4RWdUFtB"
      },
      "execution_count": null,
      "outputs": []
    },
    {
      "cell_type": "code",
      "source": [
        "def shouldMail(mailId):\n",
        "  user_choice = input(\"Do you want to Mail? (y/n) [default: yes]: \").lower() or \"y\"\n",
        "\n",
        "  if user_choice == \"y\":\n",
        "      mail_option = int(input(\"Which Entry : \"))\n",
        "      mail_option-=1\n",
        "      subject,content = myList[mail_option].mailFormat()\n",
        "      sendMail(subject[:40],content,checkMailId(mailId))\n",
        "  elif user_choice == \"n\":\n",
        "      print(\"Thank you!\")\n",
        "  else:\n",
        "      print(\"Invalid choice.\")\n"
      ],
      "metadata": {
        "id": "vv5Zq-ekcbEh"
      },
      "execution_count": null,
      "outputs": []
    },
    {
      "cell_type": "code",
      "source": [
        "def checkMailId(mailId):\n",
        "  mailId = input(\"[default: \"+mailId+\"]: \").lower() or mailId\n",
        "  return mailId\n"
      ],
      "metadata": {
        "id": "FN3eLvSdk0CC"
      },
      "execution_count": null,
      "outputs": []
    },
    {
      "cell_type": "code",
      "source": [
        "site = '1337x.to'\n",
        "searchResult = dict()\n",
        "searchMagnet = dict()\n",
        "resultList = list()\n",
        "myList = list()\n",
        "tableData = []\n",
        "cnt=0\n",
        "\n",
        "torrents = py1337x(proxy=site, cache='py1337xCache', cacheTime=500)\n",
        "searchResult = torrents.search(search, sortBy='seeders', order='desc')\n",
        "resultList = searchResult['items']\n",
        "\n",
        "for data in resultList:\n",
        "  cnt+=1\n",
        "  searchMagnet = torrents.info(torrentId=data['torrentId'])\n",
        "  obj = TorrentFile(data['name'],data['seeders'], data['leechers'], data['size'],searchMagnet['magnetLink'])\n",
        "  myList.append(obj)\n",
        "  tableData.append([cnt,obj.name,obj.size,obj.seeders,obj.leechers])\n",
        "\n",
        "table = tabulate(tableData, headers=[\"S.No\",\"Name\", \"Size\", \"Seeders\",\"Leechers\"], tablefmt=\"grid\")\n",
        "print(table)\n",
        "\n",
        "shouldMail(mailId)"
      ],
      "metadata": {
        "id": "42isHcy4bDRL",
        "colab": {
          "base_uri": "https://localhost:8080/"
        },
        "outputId": "1ffb05d7-1601-4774-f573-6df2de16236a"
      },
      "execution_count": null,
      "outputs": [
        {
          "output_type": "stream",
          "name": "stdout",
          "text": [
            "+--------+-------------------------------------------+----------+-----------+------------+\n",
            "|   S.No | Name                                      | Size     |   Seeders |   Leechers |\n",
            "+========+===========================================+==========+===========+============+\n",
            "|      1 | The.Flash.2014.S03E17.HDTV.x264-LOL[ettv] | 271.3 MB |        81 |         16 |\n",
            "+--------+-------------------------------------------+----------+-----------+------------+\n",
            "|      2 | The.Flash.S08E11.720p.x265-ZMNT           | 482.1 MB |         6 |          4 |\n",
            "+--------+-------------------------------------------+----------+-----------+------------+\n",
            "Do you want to Mail? (y/n) [default: yes]: n\n",
            "Thank you!\n"
          ]
        }
      ]
    }
  ]
}
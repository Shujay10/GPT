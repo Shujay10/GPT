{
  "nbformat": 4,
  "nbformat_minor": 0,
  "metadata": {
    "colab": {
      "provenance": [],
      "authorship_tag": "ABX9TyOoJWzxxiGRC9SkUIcFiRTY",
      "include_colab_link": true
    },
    "kernelspec": {
      "name": "python3",
      "display_name": "Python 3"
    },
    "language_info": {
      "name": "python"
    }
  },
  "cells": [
    {
      "cell_type": "markdown",
      "metadata": {
        "id": "view-in-github",
        "colab_type": "text"
      },
      "source": [
        "<a href=\"https://colab.research.google.com/github/Shujay10/GPT/blob/main/Searcher.ipynb\" target=\"_parent\"><img src=\"https://colab.research.google.com/assets/colab-badge.svg\" alt=\"Open In Colab\"/></a>"
      ]
    },
    {
      "cell_type": "markdown",
      "source": [
        "# ***1337x  Searcher***"
      ],
      "metadata": {
        "id": "jCx67yIOaVVE"
      }
    },
    {
      "cell_type": "code",
      "execution_count": 13,
      "metadata": {
        "id": "H5n86IpWaS-_"
      },
      "outputs": [],
      "source": [
        "!pip install 1337x"
      ]
    },
    {
      "cell_type": "code",
      "source": [
        "from py1337x import py1337x\n",
        "import json\n",
        "import smtplib\n",
        "from email.mime.text import MIMEText\n",
        "from email.mime.multipart import MIMEMultipart\n",
        "from tabulate import tabulate"
      ],
      "metadata": {
        "id": "TR7ZxPJMaO93"
      },
      "execution_count": 14,
      "outputs": []
    },
    {
      "cell_type": "markdown",
      "source": [
        "**Enter your regular Email ID here :**"
      ],
      "metadata": {
        "id": "PAWekDnQqAAT"
      }
    },
    {
      "cell_type": "code",
      "source": [
        "mailId = 'shujayke@gmail.com'\n",
        "# mailId = 'mylaptopfriday@gmail.com'"
      ],
      "metadata": {
        "id": "SCd1yNFop_Hm"
      },
      "execution_count": 15,
      "outputs": []
    },
    {
      "cell_type": "markdown",
      "source": [
        "**Input**"
      ],
      "metadata": {
        "id": "s50j42xehVB0"
      }
    },
    {
      "cell_type": "code",
      "source": [
        "class TorrentFile:\n",
        "    def __init__(self, name, seeders, leechers, size,magnet):\n",
        "        self.name = name\n",
        "        self.seeders = seeders\n",
        "        self.leechers = leechers\n",
        "        self.size = size\n",
        "        self.magnet = magnet\n",
        "\n",
        "    def mailFormat(self):\n",
        "        return self.name,self.magnet\n"
      ],
      "metadata": {
        "id": "8MpDXX_5391g"
      },
      "execution_count": 16,
      "outputs": []
    },
    {
      "cell_type": "code",
      "source": [
        "def retry(flag='n'):\n",
        "\n",
        "  if flag == 'n':\n",
        "    exit()\n",
        "\n",
        "  check = input(\"Want Re-search (y/n) [No] : \").lower() or 'n'\n",
        "\n",
        "  if check == 'y':\n",
        "    getInput()\n",
        "  else:\n",
        "    return"
      ],
      "metadata": {
        "id": "LIOw5qi92L6M"
      },
      "execution_count": 17,
      "outputs": []
    },
    {
      "cell_type": "code",
      "source": [
        "def sendMail(subject,content,mailId):\n",
        "    sender_email = 'mylaptopfriday@gmail.com'\n",
        "    sender_password = 'rlwcyxhjieyyqtvc'\n",
        "    recipient_email = mailId\n",
        "    subject = subject\n",
        "\n",
        "    msg = MIMEMultipart()\n",
        "    msg['From'] = sender_email\n",
        "    msg['To'] = recipient_email\n",
        "    msg['Subject'] = subject\n",
        "\n",
        "    msg.attach(MIMEText(content, 'plain'))\n",
        "\n",
        "    smtp_server = 'smtp.gmail.com'\n",
        "    smtp_port = 587\n",
        "\n",
        "    server = smtplib.SMTP(smtp_server, smtp_port)\n",
        "    server.starttls()\n",
        "    server.login(sender_email, sender_password)\n",
        "\n",
        "    server.send_message(msg)\n",
        "    server.quit()\n",
        "    print(\"Mail Sent\")\n",
        "    retry()"
      ],
      "metadata": {
        "id": "KY4n4RWdUFtB"
      },
      "execution_count": 18,
      "outputs": []
    },
    {
      "cell_type": "code",
      "source": [
        "def shouldMail(mailId,myList):\n",
        "\n",
        "  retry('y')\n",
        "  mail_option = input(\"Which Entry [Default:Exit] : \") or 'n'\n",
        "  if mail_option == 'n':\n",
        "    print(\"Thank You\")\n",
        "    exit(0)\n",
        "  else:\n",
        "    mail_option = int(mail_option)\n",
        "    mail_option-=1\n",
        "    subject,content = myList[mail_option].mailFormat()\n",
        "    sendMail(subject[:40],content,checkMailId(mailId))\n"
      ],
      "metadata": {
        "id": "vv5Zq-ekcbEh"
      },
      "execution_count": 19,
      "outputs": []
    },
    {
      "cell_type": "code",
      "source": [
        "def checkMailId(mailId):\n",
        "  mailId = input(\"[default: \"+mailId+\"]: \").lower() or mailId\n",
        "  return mailId\n"
      ],
      "metadata": {
        "id": "FN3eLvSdk0CC"
      },
      "execution_count": 20,
      "outputs": []
    },
    {
      "cell_type": "code",
      "source": [
        "def getInput():\n",
        "  search = input(\"Search : \") or \"iv\"\n",
        "\n",
        "  if search == 'iv':\n",
        "    print(\"Invalid\")\n",
        "    exit(0)\n",
        "\n",
        "  searcher(search)"
      ],
      "metadata": {
        "id": "Mz7dao7FubgF"
      },
      "execution_count": 21,
      "outputs": []
    },
    {
      "cell_type": "code",
      "source": [
        "def searcher(search):\n",
        "  site = '1337x.to'\n",
        "  searchResult = dict()\n",
        "  searchMagnet = dict()\n",
        "  resultList = list()\n",
        "  myList = list()\n",
        "  tableData = []\n",
        "  cnt=0\n",
        "\n",
        "  torrents = py1337x(proxy=site, cache='py1337xCache', cacheTime=500)\n",
        "  searchResult = torrents.search(search, sortBy='seeders', order='desc')\n",
        "  resultList = searchResult['items']\n",
        "\n",
        "  for data in resultList:\n",
        "    cnt+=1\n",
        "    searchMagnet = torrents.info(torrentId=data['torrentId'])\n",
        "    obj = TorrentFile(data['name'],data['seeders'], data['leechers'], data['size'],searchMagnet['magnetLink'])\n",
        "    myList.append(obj)\n",
        "    tableData.append([cnt,obj.name,obj.size,obj.seeders,obj.leechers])\n",
        "\n",
        "  table = tabulate(tableData, headers=[\"S.No\",\"Name\", \"Size\", \"Seeders\",\"Leechers\"], tablefmt=\"grid\")\n",
        "  print(table)\n",
        "\n",
        "  shouldMail(mailId,myList)"
      ],
      "metadata": {
        "id": "42isHcy4bDRL"
      },
      "execution_count": 22,
      "outputs": []
    },
    {
      "cell_type": "code",
      "source": [
        "getInput()"
      ],
      "metadata": {
        "colab": {
          "base_uri": "https://localhost:8080/"
        },
        "id": "yW_lQofRv7PK",
        "outputId": "4885e8b7-7756-4d7e-e8a6-14eebb311aa9"
      },
      "execution_count": 23,
      "outputs": [
        {
          "name": "stdout",
          "output_type": "stream",
          "text": [
            "Search : Flash S10\n",
            "+--------+---------------------------------------------------------------------------------------------------------+----------+-----------+------------+\n",
            "|   S.No | Name                                                                                                    | Size     |   Seeders |   Leechers |\n",
            "+========+=========================================================================================================+==========+===========+============+\n",
            "|      1 | SMALLVILLE (2001-2011) - The Complete SUPERMAN TV Series, Season 1,2,3,4,5,6,7,8,9,10 S01-S10 - 720p... | 135.6 GB |         9 |         84 |\n",
            "+--------+---------------------------------------------------------------------------------------------------------+----------+-----------+------------+\n",
            "Want ReSearch(y/n)[No] : \n",
            "Which Entry : [Default: Exit]1\n",
            "[default: mylaptopfriday@gmail.com]: \n",
            "Mail Sent\n",
            "Want ReSearch(y/n)[No] : \n"
          ]
        }
      ]
    }
  ]
}
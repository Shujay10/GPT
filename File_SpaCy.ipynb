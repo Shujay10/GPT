{
  "nbformat": 4,
  "nbformat_minor": 0,
  "metadata": {
    "colab": {
      "provenance": [],
      "authorship_tag": "ABX9TyOcnTLBnNXt+lCbSm1/2LKI",
      "include_colab_link": true
    },
    "kernelspec": {
      "name": "python3",
      "display_name": "Python 3"
    },
    "language_info": {
      "name": "python"
    }
  },
  "cells": [
    {
      "cell_type": "markdown",
      "metadata": {
        "id": "view-in-github",
        "colab_type": "text"
      },
      "source": [
        "<a href=\"https://colab.research.google.com/github/Shujay10/GPT/blob/main/File_SpaCy.ipynb\" target=\"_parent\"><img src=\"https://colab.research.google.com/assets/colab-badge.svg\" alt=\"Open In Colab\"/></a>"
      ]
    },
    {
      "cell_type": "code",
      "execution_count": null,
      "metadata": {
        "id": "udIdrR0tPotG"
      },
      "outputs": [],
      "source": [
        "!pip install gradio"
      ]
    },
    {
      "cell_type": "code",
      "source": [
        "!pip install spacy"
      ],
      "metadata": {
        "id": "4ZatonWeR9-R"
      },
      "execution_count": null,
      "outputs": []
    },
    {
      "cell_type": "code",
      "source": [
        "!python -m spacy download en_core_web_sm"
      ],
      "metadata": {
        "id": "ovMgHSAlSWuU"
      },
      "execution_count": null,
      "outputs": []
    },
    {
      "cell_type": "code",
      "source": [
        "!pip install pdfplumber"
      ],
      "metadata": {
        "id": "Nfgn6JtfVZ21"
      },
      "execution_count": null,
      "outputs": []
    },
    {
      "cell_type": "code",
      "source": [
        "from google.colab import drive\n",
        "drive.mount('/content/drive')"
      ],
      "metadata": {
        "id": "3I8klvWx2r35"
      },
      "execution_count": null,
      "outputs": []
    },
    {
      "cell_type": "code",
      "source": [
        "import spacy\n",
        "import pdfplumber\n",
        "nlp = spacy.load('en_core_web_sm')"
      ],
      "metadata": {
        "id": "pRqSITGZ5D6b"
      },
      "execution_count": 12,
      "outputs": []
    },
    {
      "cell_type": "code",
      "source": [
        "def getdata(file):\n",
        "\n",
        "  pages = list()\n",
        "\n",
        "  for i in range(1,11):\n",
        "    caseno = i\n",
        "    total_pages = 0\n",
        "\n",
        "    with pdfplumber.open(file) as pdf:\n",
        "      total_pages = len(pdf.pages)\n",
        "      for i in range(0,total_pages):\n",
        "        page = pdf.pages[i]\n",
        "        text = page.extract_text()\n",
        "        pages.append(text)\n",
        "\n",
        "  return pages,total_pages\n",
        "    "
      ],
      "metadata": {
        "id": "p5JNGDuiXeii"
      },
      "execution_count": 16,
      "outputs": []
    },
    {
      "cell_type": "code",
      "source": [
        "def getKeywords(file):\n",
        "\n",
        "  pages,noP = getdata(file)\n",
        "\n",
        "  for i in range(0,noP-1):\n",
        "    doc = nlp(pages[noP])\n",
        "    keywords = []\n",
        "    for token in doc:\n",
        "        if token.is_stop or token.is_punct:\n",
        "            continue\n",
        "        if token.pos_ == 'NOUN' or token.pos_ == 'PROPN' or token.pos_ == 'ADJ':\n",
        "            keywords.append(token.text)\n",
        "\n",
        "    keywords = list(set(keywords))\n",
        "  return keywords"
      ],
      "metadata": {
        "id": "gGW3fY2g4x41"
      },
      "execution_count": 17,
      "outputs": []
    },
    {
      "cell_type": "code",
      "source": [
        "# getKeywords('/content/drive/My Drive/PDFs/case1.pdf')\n"
      ],
      "metadata": {
        "id": "33fm2gKxW7oH"
      },
      "execution_count": null,
      "outputs": []
    },
    {
      "cell_type": "code",
      "source": [
        "import gradio as gr\n",
        "\n",
        "def display_list(caseno):\n",
        "    list_of_strings = getKeywords('/content/drive/My Drive/PDFs/'+caseno+'.pdf')\n",
        "    list_items = \"\"\n",
        "    for i, item in enumerate(list_of_strings):\n",
        "        list_items += f\"<li> {item}</li>\"\n",
        "    return f\"<ol>{list_items}</ol>\"\n",
        "\n",
        "inputs = gr.inputs.Textbox(label=\"case<no>\")\n",
        "\n",
        "iface = gr.Interface(fn=display_list, inputs=inputs, outputs=\"html\")\n",
        "iface.launch(share=True)"
      ],
      "metadata": {
        "id": "4ZuTTOhJQvOe",
        "colab": {
          "base_uri": "https://localhost:8080/",
          "height": 715
        },
        "outputId": "97668a5b-98b9-4670-b390-52aadb889cf5"
      },
      "execution_count": 37,
      "outputs": [
        {
          "output_type": "stream",
          "name": "stderr",
          "text": [
            "/usr/local/lib/python3.9/dist-packages/gradio/inputs.py:27: UserWarning: Usage of gradio.inputs is deprecated, and will not be supported in the future, please import your component from gradio.components\n",
            "  warnings.warn(\n",
            "/usr/local/lib/python3.9/dist-packages/gradio/deprecation.py:40: UserWarning: `optional` parameter is deprecated, and it has no effect\n",
            "  warnings.warn(value)\n",
            "/usr/local/lib/python3.9/dist-packages/gradio/deprecation.py:40: UserWarning: `numeric` parameter is deprecated, and it has no effect\n",
            "  warnings.warn(value)\n"
          ]
        },
        {
          "output_type": "stream",
          "name": "stdout",
          "text": [
            "Colab notebook detected. To show errors in colab notebook, set debug=True in launch()\n",
            "Running on public URL: https://2ac4a58f684ff449a3.gradio.live\n",
            "\n",
            "This share link expires in 72 hours. For free permanent hosting and GPU upgrades (NEW!), check out Spaces: https://huggingface.co/spaces\n"
          ]
        },
        {
          "output_type": "display_data",
          "data": {
            "text/plain": [
              "<IPython.core.display.HTML object>"
            ],
            "text/html": [
              "<div><iframe src=\"https://2ac4a58f684ff449a3.gradio.live\" width=\"100%\" height=\"500\" allow=\"autoplay; camera; microphone; clipboard-read; clipboard-write;\" frameborder=\"0\" allowfullscreen></iframe></div>"
            ]
          },
          "metadata": {}
        },
        {
          "output_type": "execute_result",
          "data": {
            "text/plain": []
          },
          "metadata": {},
          "execution_count": 37
        }
      ]
    }
  ]
}
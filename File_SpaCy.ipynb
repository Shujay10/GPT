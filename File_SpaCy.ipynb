{
  "nbformat": 4,
  "nbformat_minor": 0,
  "metadata": {
    "colab": {
      "provenance": [],
      "authorship_tag": "ABX9TyOO0dxH+bdSPJOcPKMTQvmK",
      "include_colab_link": true
    },
    "kernelspec": {
      "name": "python3",
      "display_name": "Python 3"
    },
    "language_info": {
      "name": "python"
    }
  },
  "cells": [
    {
      "cell_type": "markdown",
      "metadata": {
        "id": "view-in-github",
        "colab_type": "text"
      },
      "source": [
        "<a href=\"https://colab.research.google.com/github/Shujay10/GPT/blob/main/File_SpaCy.ipynb\" target=\"_parent\"><img src=\"https://colab.research.google.com/assets/colab-badge.svg\" alt=\"Open In Colab\"/></a>"
      ]
    },
    {
      "cell_type": "code",
      "execution_count": 9,
      "metadata": {
        "id": "udIdrR0tPotG"
      },
      "outputs": [],
      "source": [
        "# !pip install gradio"
      ]
    },
    {
      "cell_type": "code",
      "source": [
        "# !pip install spacy"
      ],
      "metadata": {
        "id": "4ZatonWeR9-R"
      },
      "execution_count": 10,
      "outputs": []
    },
    {
      "cell_type": "code",
      "source": [
        "# !python -m spacy download en_core_web_sm"
      ],
      "metadata": {
        "id": "ovMgHSAlSWuU"
      },
      "execution_count": 11,
      "outputs": []
    },
    {
      "cell_type": "code",
      "source": [
        "# !pip install pdfplumber"
      ],
      "metadata": {
        "id": "Nfgn6JtfVZ21"
      },
      "execution_count": 12,
      "outputs": []
    },
    {
      "cell_type": "code",
      "source": [
        "import spacy\n",
        "import pdfplumber\n",
        "import gradio as gr\n",
        "\n",
        "nlp = spacy.load('en_core_web_sm')"
      ],
      "metadata": {
        "id": "pRqSITGZ5D6b"
      },
      "execution_count": 13,
      "outputs": []
    },
    {
      "cell_type": "code",
      "source": [
        "def getKeywords(para):\n",
        "\n",
        "  doc = nlp(para)\n",
        "  keywords = []\n",
        "  for token in doc:\n",
        "      if token.is_stop or token.is_punct:\n",
        "          continue\n",
        "      if token.pos_ == 'NOUN' or token.pos_ == 'PROPN' or token.pos_ == 'ADJ':\n",
        "          keywords.append(token.text)\n",
        "\n",
        "  keywords = list(set(keywords))\n",
        "  return keywords"
      ],
      "metadata": {
        "id": "gGW3fY2g4x41"
      },
      "execution_count": 14,
      "outputs": []
    },
    {
      "cell_type": "code",
      "source": [
        "def analyze_pdf(caseno):\n",
        "    pages = list()\n",
        "    para = ''\n",
        "\n",
        "    with pdfplumber.open(caseno.name) as pdf:\n",
        "      total_pages = len(pdf.pages)\n",
        "      for i in range(0,total_pages):\n",
        "        page = pdf.pages[i]\n",
        "        text = page.extract_text()\n",
        "        para = para + text\n",
        "\n",
        "    list_of_strings = getKeywords(para)\n",
        "    list_items = \"\"\n",
        "    for i, item in enumerate(list_of_strings):\n",
        "        list_items += f\"<li> {item}</li>\"\n",
        "    return f\"<ol>{list_items}</ol>\"\n",
        "\n",
        "interface = gr.Interface(\n",
        "    fn=analyze_pdf,\n",
        "    inputs=gr.inputs.File(label=\"PDF file\"),\n",
        "    outputs=\"html\"\n",
        ")\n",
        "\n",
        "interface.launch(share=True)\n"
      ],
      "metadata": {
        "id": "4ZuTTOhJQvOe",
        "colab": {
          "base_uri": "https://localhost:8080/",
          "height": 715
        },
        "outputId": "35815ba6-7053-429f-ab8a-58a5c326c2f2"
      },
      "execution_count": 15,
      "outputs": [
        {
          "output_type": "stream",
          "name": "stderr",
          "text": [
            "/usr/local/lib/python3.9/dist-packages/gradio/inputs.py:347: UserWarning: Usage of gradio.inputs is deprecated, and will not be supported in the future, please import your components from gradio.components\n",
            "  warnings.warn(\n",
            "/usr/local/lib/python3.9/dist-packages/gradio/deprecation.py:40: UserWarning: `optional` parameter is deprecated, and it has no effect\n",
            "  warnings.warn(value)\n",
            "/usr/local/lib/python3.9/dist-packages/gradio/deprecation.py:40: UserWarning: `keep_filename` parameter is deprecated, and it has no effect\n",
            "  warnings.warn(value)\n"
          ]
        },
        {
          "output_type": "stream",
          "name": "stdout",
          "text": [
            "Colab notebook detected. To show errors in colab notebook, set debug=True in launch()\n",
            "Running on public URL: https://932d5d97323b2494b8.gradio.live\n",
            "\n",
            "This share link expires in 72 hours. For free permanent hosting and GPU upgrades (NEW!), check out Spaces: https://huggingface.co/spaces\n"
          ]
        },
        {
          "output_type": "display_data",
          "data": {
            "text/plain": [
              "<IPython.core.display.HTML object>"
            ],
            "text/html": [
              "<div><iframe src=\"https://932d5d97323b2494b8.gradio.live\" width=\"100%\" height=\"500\" allow=\"autoplay; camera; microphone; clipboard-read; clipboard-write;\" frameborder=\"0\" allowfullscreen></iframe></div>"
            ]
          },
          "metadata": {}
        },
        {
          "output_type": "execute_result",
          "data": {
            "text/plain": []
          },
          "metadata": {},
          "execution_count": 15
        }
      ]
    }
  ]
}
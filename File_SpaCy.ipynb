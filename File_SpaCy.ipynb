{
  "nbformat": 4,
  "nbformat_minor": 0,
  "metadata": {
    "colab": {
      "provenance": [],
      "authorship_tag": "ABX9TyMbzhuBcRgTzu9U38j5H196",
      "include_colab_link": true
    },
    "kernelspec": {
      "name": "python3",
      "display_name": "Python 3"
    },
    "language_info": {
      "name": "python"
    }
  },
  "cells": [
    {
      "cell_type": "markdown",
      "metadata": {
        "id": "view-in-github",
        "colab_type": "text"
      },
      "source": [
        "<a href=\"https://colab.research.google.com/github/Shujay10/GPT/blob/main/File_SpaCy.ipynb\" target=\"_parent\"><img src=\"https://colab.research.google.com/assets/colab-badge.svg\" alt=\"Open In Colab\"/></a>"
      ]
    },
    {
      "cell_type": "code",
      "execution_count": null,
      "metadata": {
        "id": "udIdrR0tPotG"
      },
      "outputs": [],
      "source": [
        "# !pip install gradio"
      ]
    },
    {
      "cell_type": "markdown",
      "source": [
        "hi\n"
      ],
      "metadata": {
        "id": "qdzXxhs6bVDj"
      }
    },
    {
      "cell_type": "code",
      "source": [
        "# !pip install spacy"
      ],
      "metadata": {
        "id": "4ZatonWeR9-R"
      },
      "execution_count": null,
      "outputs": []
    },
    {
      "cell_type": "code",
      "source": [
        "# !python -m spacy download en_core_web_sm"
      ],
      "metadata": {
        "id": "ovMgHSAlSWuU"
      },
      "execution_count": null,
      "outputs": []
    },
    {
      "cell_type": "code",
      "source": [
        "# !pip install pdfplumber"
      ],
      "metadata": {
        "id": "Nfgn6JtfVZ21"
      },
      "execution_count": null,
      "outputs": []
    },
    {
      "cell_type": "code",
      "source": [
        "import spacy\n",
        "import pdfplumber\n",
        "import gradio as gr\n",
        "\n",
        "nlp = spacy.load('en_core_web_sm')"
      ],
      "metadata": {
        "id": "pRqSITGZ5D6b"
      },
      "execution_count": null,
      "outputs": []
    },
    {
      "cell_type": "code",
      "source": [
        "def getKeywords(para):\n",
        "\n",
        "  doc = nlp(para)\n",
        "  keywords = []\n",
        "  for token in doc:\n",
        "      if token.is_stop or token.is_punct:\n",
        "          continue\n",
        "      if token.pos_ == 'NOUN' or token.pos_ == 'PROPN' or token.pos_ == 'ADJ':\n",
        "          keywords.append(token.text)\n",
        "\n",
        "  keywords = list(set(keywords))\n",
        "  return keywords"
      ],
      "metadata": {
        "id": "gGW3fY2g4x41"
      },
      "execution_count": null,
      "outputs": []
    },
    {
      "cell_type": "code",
      "source": [
        "def analyze_pdf(caseno):\n",
        "    pages = list()\n",
        "    para = ''\n",
        "\n",
        "    with pdfplumber.open(caseno.name) as pdf:\n",
        "      total_pages = len(pdf.pages)\n",
        "      for i in range(0,total_pages):\n",
        "        page = pdf.pages[i]\n",
        "        text = page.extract_text()\n",
        "        para = para + text\n",
        "\n",
        "    list_of_strings = getKeywords(para)\n",
        "    list_items = \"\"\n",
        "    for i, item in enumerate(list_of_strings):\n",
        "        list_items += f\"<li> {item}</li>\"\n",
        "    return f\"<ol>{list_items}</ol>\"\n",
        "\n",
        "interface = gr.Interface(\n",
        "    fn=analyze_pdf,\n",
        "    inputs=gr.inputs.File(label=\"PDF file\"),\n",
        "    outputs=\"html\",\n",
        "    title='Keywords Generator'\n",
        ")\n",
        "\n",
        "interface.launch(share=True)\n"
      ],
      "metadata": {
        "id": "4ZuTTOhJQvOe",
        "colab": {
          "base_uri": "https://localhost:8080/",
          "height": 235
        },
        "outputId": "724c0790-98be-464f-d0a1-bd0367826055"
      },
      "execution_count": null,
      "outputs": [
        {
          "output_type": "error",
          "ename": "NameError",
          "evalue": "ignored",
          "traceback": [
            "\u001b[0;31m---------------------------------------------------------------------------\u001b[0m",
            "\u001b[0;31mNameError\u001b[0m                                 Traceback (most recent call last)",
            "\u001b[0;32m<ipython-input-1-c5b306287119>\u001b[0m in \u001b[0;36m<module>\u001b[0;34m\u001b[0m\n\u001b[1;32m     16\u001b[0m     \u001b[0;32mreturn\u001b[0m \u001b[0;34mf\"<ol>{list_items}</ol>\"\u001b[0m\u001b[0;34m\u001b[0m\u001b[0;34m\u001b[0m\u001b[0m\n\u001b[1;32m     17\u001b[0m \u001b[0;34m\u001b[0m\u001b[0m\n\u001b[0;32m---> 18\u001b[0;31m interface = gr.Interface(\n\u001b[0m\u001b[1;32m     19\u001b[0m     \u001b[0mfn\u001b[0m\u001b[0;34m=\u001b[0m\u001b[0manalyze_pdf\u001b[0m\u001b[0;34m,\u001b[0m\u001b[0;34m\u001b[0m\u001b[0;34m\u001b[0m\u001b[0m\n\u001b[1;32m     20\u001b[0m     \u001b[0minputs\u001b[0m\u001b[0;34m=\u001b[0m\u001b[0mgr\u001b[0m\u001b[0;34m.\u001b[0m\u001b[0minputs\u001b[0m\u001b[0;34m.\u001b[0m\u001b[0mFile\u001b[0m\u001b[0;34m(\u001b[0m\u001b[0mlabel\u001b[0m\u001b[0;34m=\u001b[0m\u001b[0;34m\"PDF file\"\u001b[0m\u001b[0;34m)\u001b[0m\u001b[0;34m,\u001b[0m\u001b[0;34m\u001b[0m\u001b[0;34m\u001b[0m\u001b[0m\n",
            "\u001b[0;31mNameError\u001b[0m: name 'gr' is not defined"
          ]
        }
      ]
    }
  ]
}